{
 "cells": [
  {
   "cell_type": "code",
   "execution_count": 63,
   "metadata": {},
   "outputs": [],
   "source": [
    "from requests_html import HTMLSession\n",
    "import requests\n",
    "import os"
   ]
  },
  {
   "cell_type": "code",
   "execution_count": 64,
   "metadata": {},
   "outputs": [],
   "source": [
    "def mengambil_url_mentah():\n",
    "    \"\"\"mengambil url mentahan dari website dan hasil url nya masih terbungkus\"\"\"\n",
    "    \n",
    "    session = HTMLSession()\n",
    "    url = \"https://www.udemyfreebies.com/\"\n",
    "    response = session.get(url)\n",
    "    \n",
    "    get_coupon_page = response.html.find(\"#coupon-page\",first=True)\n",
    "    get_cols = get_coupon_page.find(\"div .col-md-4\")\n",
    "    \n",
    "    for i in range(0, len(get_cols)):\n",
    "        get_col = get_cols[i]\n",
    "        get_theme_blocks = get_col.find(\"div .theme-block\")\n",
    "    \n",
    "        for x in range(0, len(get_theme_blocks)):\n",
    "            get_details = get_theme_blocks[x]\n",
    "            get_detail = get_details.find(\"div .coupon-details\")\n",
    "            get_link_btns = get_detail[x].links\n",
    "            \n",
    "            for get_link_btn in get_link_btns:\n",
    "                #print(get_link_btn)\n",
    "                print(membuka_pembungkus_url_mentah(get_link_btn,x))\n",
    "                simpan_kupon_udemy(get_link_btn)"
   ]
  },
  {
   "cell_type": "code",
   "execution_count": null,
   "metadata": {},
   "outputs": [],
   "source": []
  },
  {
   "cell_type": "code",
   "execution_count": null,
   "metadata": {},
   "outputs": [],
   "source": []
  },
  {
   "cell_type": "code",
   "execution_count": 65,
   "metadata": {},
   "outputs": [],
   "source": [
    "def membuka_pembungkus_url_mentah(url_mentah,index):\n",
    "    \"\"\"setelah mendapatkan url mentah,request lagi untuk membuka pembungkus url mentah\"\"\"\n",
    "    \n",
    "    session = HTMLSession()\n",
    "    response = session.get(url_mentah)\n",
    "    \n",
    "    get_link_btns = response.html.find(\".button-icon\")[index].links\n",
    "    \n",
    "    for get_link in get_link_btns:\n",
    "        #print(get_link)\n",
    "        url_udemy = mengambil_url_udemy(get_link)\n",
    "        \n",
    "        return url_udemy"
   ]
  },
  {
   "cell_type": "code",
   "execution_count": 66,
   "metadata": {},
   "outputs": [],
   "source": [
    "def mengambil_url_udemy(url):\n",
    "    \"\"\"setelah pembungkus terbuka request lagi untuk mendapatkan url udemy\"\"\"\n",
    "    \n",
    "    session = HTMLSession()\n",
    "    response = session.get(url)\n",
    "    get_links = response.html.url\n",
    "\n",
    "    return get_links"
   ]
  },
  {
   "cell_type": "code",
   "execution_count": 67,
   "metadata": {},
   "outputs": [],
   "source": [
    "def simpan_kupon_udemy(url,tgl=\"\"):\n",
    "    \"\"\"simpan url udemy\"\"\"\n",
    "    \n",
    "    with open(\"coupon-udemyfreebies.txt\", \"a\") as coupon:\n",
    "        coupon.write(str(url) + '\\n')"
   ]
  },
  {
   "cell_type": "code",
   "execution_count": 68,
   "metadata": {
    "scrolled": true,
    "tags": []
   },
   "outputs": [
    {
     "name": "stdout",
     "output_type": "stream",
     "text": [
      "[*] File berhasil di hapus \n",
      "[*] Memulai scraping udemy-freebies\n",
      "\n",
      "https://www.udemy.com/course/learn-python-for-data-science-now/\n",
      "https://www.udemy.com/course/learn-teaching-tools-for-effective-on-line-teaching/?couponCode=ARAVALIBEDMED\n",
      "https://www.udemy.com/course/stripe-with-c-sharp/?couponCode=44707F6B5BE5A564C5AF\n",
      "https://www.udemy.com/course/blazor-examples/?couponCode=643EC9ADCFB8BD37ED00\n",
      "https://www.udemy.com/course/python-beautifulsoup-webscraping-for-data-science-projects/?couponCode=ADD0AF35AB901DF4A9B1\n",
      "https://www.udemy.com/course/mobile-games-101-android-and-ios-development/\n",
      "https://www.udemy.com/course/python-introduction-to-data-science-and-machine-learning-a-z/?couponCode=43F60B8D671F2D91B4DD\n",
      "https://www.udemy.com/course/affiliate-marketing-domination-become-a-super-affiliate/?couponCode=9ABB3F3B184B620CB4D9\n",
      "https://www.udemy.com/course/arduino-for-beginners-master-arduino-and-c-programming/?couponCode=C9F1B86202F7E05384ED\n",
      "https://www.udemy.com/course/reverse-engineering/\n",
      "https://www.udemy.com/course/complete-data-science-course-go-from-zero-to-hero-a/?couponCode=GOM-NA\n",
      "https://www.udemy.com/course/ethical-hacking-anonymity-course/?couponCode=199-QW\n"
     ]
    }
   ],
   "source": [
    "def main():\n",
    "    \n",
    "    # agar link udemy tetap fresh harus di hapus tiap kali menjalankan program     \n",
    "    try:\n",
    "        os.remove(\"coupon-udemyfreebies.txt\")\n",
    "        print(\"[*] File berhasil di hapus \")\n",
    "        \n",
    "    except Exception as e:\n",
    "        print(e)\n",
    "        print(\"[*] Mungkin file sudah di hapus atau file belum terbuat\\n\")\n",
    "        \n",
    "    print(\"[*] Memulai scraping udemy-freebies\\n\") \n",
    "    \n",
    "    mengambil_url_mentah()\n",
    "    \n",
    "if __name__ == \"__main__\":\n",
    "    main()"
   ]
  },
  {
   "cell_type": "code",
   "execution_count": null,
   "metadata": {},
   "outputs": [],
   "source": []
  }
 ],
 "metadata": {
  "kernelspec": {
   "display_name": "Python 3",
   "language": "python",
   "name": "python3"
  },
  "language_info": {
   "codemirror_mode": {
    "name": "ipython",
    "version": 3
   },
   "file_extension": ".py",
   "mimetype": "text/x-python",
   "name": "python",
   "nbconvert_exporter": "python",
   "pygments_lexer": "ipython3",
   "version": "3.6.9"
  }
 },
 "nbformat": 4,
 "nbformat_minor": 4
}
