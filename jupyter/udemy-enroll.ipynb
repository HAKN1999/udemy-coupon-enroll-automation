{
 "cells": [
  {
   "cell_type": "code",
   "execution_count": 24,
   "metadata": {},
   "outputs": [],
   "source": [
    "from selenium import webdriver\n",
    "import os\n",
    "import pickle\n",
    "import time"
   ]
  },
  {
   "cell_type": "code",
   "execution_count": null,
   "metadata": {},
   "outputs": [],
   "source": []
  },
  {
   "cell_type": "code",
   "execution_count": 25,
   "metadata": {
    "scrolled": true,
    "tags": []
   },
   "outputs": [],
   "source": [
    "PATH = os.getcwd()\n",
    "driver = webdriver.Chrome(executable_path=r\"{PATH}/chromedriver\".format(PATH = PATH))\n",
    "# executor_url = driver.command_executor._url\n",
    "# session_id = driver.session_id\n",
    "driver.get(\"https://www.udemy.com/join/login-popup\")\n",
    "\n",
    "# print(session_id)\n",
    "# print(executor_url)\n",
    "\n",
    "# driver2 = webdriver.Remote(command_executor=executor_url, desired_capabilities={})\n",
    "# driver2.session_id = session_id\n",
    "# print (driver2.current_url)"
   ]
  },
  {
   "cell_type": "code",
   "execution_count": 26,
   "metadata": {},
   "outputs": [],
   "source": [
    "def halaman_masuk_udemy(email,password):\n",
    "    \"\"\"untuk login ke halaman udemy dan menyimpan cookies untuk\n",
    "       menghindari human verifikasi jika password salah berluang kali\n",
    "    \"\"\"\n",
    "    try:\n",
    "\n",
    "        input_email = driver.find_element_by_xpath(\"//input[@id='email--1']\")\n",
    "        input_email.send_keys(email)\n",
    "\n",
    "        input_password = driver.find_element_by_xpath(\"//input[@id='id_password']\")\n",
    "        input_password.send_keys(password)\n",
    "\n",
    "        login = driver.find_element_by_xpath(\"//input[@id='submit-id-submit']\").click()\n",
    "        \n",
    "        \n",
    "        try:\n",
    "            # salah input email / password\n",
    "            get_problem_logging = driver.find_element_by_class_name(\"alert\")\n",
    "            if get_problem_logging:\n",
    "                print(get_problem_logging.text)\n",
    "                #keluar program\n",
    "        \n",
    "        except:\n",
    "            pass\n",
    "            \n",
    "#         try:\n",
    "#             # sering mencoba masuk\n",
    "#             get_human = driver.find_element_by_class_name(\"page-title\")\n",
    "#             if get_human:\n",
    "#                 print(get_human.text)\n",
    "#                 #keluar program\n",
    "                \n",
    "#         except:\n",
    "#             pass\n",
    "        \n",
    "        simpan_cookies(driver)\n",
    "        driver.implicitly_wait(2)\n",
    "        \n",
    "    except:\n",
    "        print(\"[X] Mungkin kena verifikasi you are a human,coba lagi 30Menit!\")\n",
    "        \n",
    "\n",
    "\n"
   ]
  },
  {
   "cell_type": "code",
   "execution_count": 27,
   "metadata": {},
   "outputs": [],
   "source": [
    "def simpan_cookies(driver):\n",
    "    \"\"\"simpan cookies setelah loginn\"\"\"\n",
    "    \n",
    "    # simpan cookies untuk login sesi berikut nya\n",
    "    with open(\"cookies-udemy.pickle\",\"wb\") as filehandler:\n",
    "        pickle.dump(driver.get_cookies(),filehandler)\n",
    "        \n",
    "    print(\"[*] Cookies berhasil di simpan\")"
   ]
  },
  {
   "cell_type": "code",
   "execution_count": null,
   "metadata": {},
   "outputs": [],
   "source": []
  },
  {
   "cell_type": "code",
   "execution_count": 28,
   "metadata": {},
   "outputs": [],
   "source": [
    "def load_cookies():\n",
    "    \"\"\"meload cookies yg telah di simpan\"\"\"\n",
    "    \n",
    "    url = \"https://www.udemy.com/join/login-popup/\"\n",
    "    \n",
    "    with open(\"cookies-udemy.pickle\", \"rb\") as read_cookies:\n",
    "        cookies = pickle.load(read_cookies)\n",
    "    driver.get(url)\n",
    "    \n",
    "    for cookie in cookies:\n",
    "        driver.add_cookie(cookie)\n",
    "    print(\"[*] Refresh browser \")\n",
    "    \n",
    "    driver.refresh()\n",
    "    \n",
    "    print(\"[*] Cookies berhasil di load\")\n",
    "    "
   ]
  },
  {
   "cell_type": "code",
   "execution_count": 77,
   "metadata": {
    "tags": []
   },
   "outputs": [
    {
     "name": "stdout",
     "output_type": "stream",
     "text": [
      "None\n"
     ]
    }
   ],
   "source": [
    "# def baca_kupon_udemy():\n",
    "with open(\"coupon-tutorialbar.txt\",'r') as f:\n",
    "    coupons = f.readlines()\n",
    "\n",
    "# for coupon in coupons:\n",
    "driver.get(coupons[2])\n",
    "# driver.implicitly_wait(5)\n",
    "\n",
    "ss = driver.execute_script('return document.getElementsByClassName(\"styles--btn--express-checkout--28jN4\")')\n",
    "print(ss)"
   ]
  },
  {
   "cell_type": "code",
   "execution_count": 29,
   "metadata": {
    "tags": []
   },
   "outputs": [
    {
     "name": "stdout",
     "output_type": "stream",
     "text": [
      "[*] Cookies ditemukan\n",
      "[*] Refresh browser \n",
      "[*] Cookies berhasil di load\n"
     ]
    }
   ],
   "source": [
    "def main():\n",
    "    \n",
    "    \n",
    "    #cek cookies\n",
    "    if os.path.isfile(\"cookies-udemy.pickle\"):\n",
    "        print(\"[*] Cookies ditemukan\")\n",
    "        load_cookies()\n",
    "        \n",
    "#         #cookies tidak valid saat membuat\n",
    "#         try:\n",
    "#             get_human = driver.find_element_by_class_name(\"page-title\")\n",
    "#             if get_human:\n",
    "#                 print(\"[X] \"+get_human.text)\n",
    "#                 print(\"[*] Menghapus cookies,cookies tidak valid!\")\n",
    "#                 os.remove(\"cookies-udemy.pickle\")\n",
    "#                 print(\"[*] Jalankan program untuk memperbarui cookies\")\n",
    "#                 #keluar program\n",
    "\n",
    "#         except:\n",
    "#             pass\n",
    "        \n",
    "    else:\n",
    "        print(\"[*] Harus login! \")\n",
    "        email = input(\"    Masukan email: \")\n",
    "        password = input(\"    Masukan password: \")\n",
    "        \n",
    "        halaman_masuk_udemy(email,password)\n",
    "    \n",
    "if __name__ == \"__main__\":\n",
    "    main()"
   ]
  },
  {
   "cell_type": "code",
   "execution_count": null,
   "metadata": {},
   "outputs": [],
   "source": []
  },
  {
   "cell_type": "code",
   "execution_count": null,
   "metadata": {},
   "outputs": [],
   "source": []
  }
 ],
 "metadata": {
  "kernelspec": {
   "display_name": "Python 3",
   "language": "python",
   "name": "python3"
  },
  "language_info": {
   "codemirror_mode": {
    "name": "ipython",
    "version": 3
   },
   "file_extension": ".py",
   "mimetype": "text/x-python",
   "name": "python",
   "nbconvert_exporter": "python",
   "pygments_lexer": "ipython3",
   "version": "3.6.9"
  }
 },
 "nbformat": 4,
 "nbformat_minor": 4
}
