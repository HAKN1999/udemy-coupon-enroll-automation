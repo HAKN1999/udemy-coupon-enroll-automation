{
 "cells": [
  {
   "cell_type": "code",
   "execution_count": 1,
   "metadata": {},
   "outputs": [
    {
     "name": "stderr",
     "output_type": "stream",
     "text": [
      "/usr/lib/python3/dist-packages/requests/__init__.py:80: RequestsDependencyWarning: urllib3 (1.25.10) or chardet (3.0.4) doesn't match a supported version!\n",
      "  RequestsDependencyWarning)\n"
     ]
    }
   ],
   "source": [
    "from requests_html import HTMLSession\n",
    "import requests\n",
    "import os"
   ]
  },
  {
   "cell_type": "code",
   "execution_count": 2,
   "metadata": {},
   "outputs": [],
   "source": []
  },
  {
   "cell_type": "code",
   "execution_count": 73,
   "metadata": {},
   "outputs": [],
   "source": [
    "session = HTMLSession()\n",
    "def memgambil_url_mentah(page = 1):\n",
    "    \"\"\"mengambil url mentahan dari website yang hasil nya masih terbungkus\"\"\"\n",
    "\n",
    "    get_h3_tags = []\n",
    "    \n",
    "    url = 'https://www.tutorialbar.com/all-courses/page/{page}/'.format(page=page)\n",
    "    response = session.get(url)\n",
    "    get_pages = response.html.find(\"#page-19\")\n",
    "\n",
    "    for get_page in get_pages:\n",
    "        get_cols = get_page.find(\"div .content_constructor\")\n",
    "        for get_col in get_cols:\n",
    "          get_h3_tags.append(get_col)\n",
    "\n",
    "    for get_h3_tag in get_h3_tags:\n",
    "        for get_h3 in get_h3_tag.find(\"h3\"):\n",
    "            for links in get_h3.links:\n",
    "#                 print(links)\n",
    "                url_udemy(links)\n",
    "                "
   ]
  },
  {
   "cell_type": "code",
   "execution_count": 81,
   "metadata": {},
   "outputs": [],
   "source": [
    "def url_udemy(url_mentah):\n",
    "    \"\"\"membuka bungkus url dan request lagi untuk mengambil url udemy\"\"\"\n",
    "    \n",
    "    response = session.get(url_mentah)\n",
    "    get_pages = response.html.find(\"div .text-center\")\n",
    "\n",
    "    for get_page in get_pages:\n",
    "        for get_btn_offers in get_page.find(\".btn_offer_block\"):\n",
    "            for get_btn_offer in get_btn_offers.links:\n",
    "#                 print(get_btn_offer)\n",
    "                simpan_kupon_udemy(get_btn_offer)"
   ]
  },
  {
   "cell_type": "code",
   "execution_count": 82,
   "metadata": {},
   "outputs": [],
   "source": [
    "def simpan_kupon_udemy(url):\n",
    "    \"\"\"simpan url udemy\"\"\"\n",
    "    \n",
    "    with open(\"coupon-tutorialbar.txt\", \"a\") as coupon:\n",
    "        coupon.write(str(url) + '\\n')"
   ]
  },
  {
   "cell_type": "code",
   "execution_count": 84,
   "metadata": {},
   "outputs": [],
   "source": [
    "def main():\n",
    "    memgambil_url_mentah()\n",
    "    \n",
    "if __name__ == \"__main__\":\n",
    "    main()"
   ]
  },
  {
   "cell_type": "code",
   "execution_count": null,
   "metadata": {},
   "outputs": [],
   "source": []
  }
 ],
 "metadata": {
  "kernelspec": {
   "display_name": "Python 3",
   "language": "python",
   "name": "python3"
  },
  "language_info": {
   "codemirror_mode": {
    "name": "ipython",
    "version": 3
   },
   "file_extension": ".py",
   "mimetype": "text/x-python",
   "name": "python",
   "nbconvert_exporter": "python",
   "pygments_lexer": "ipython3",
   "version": "3.6.9"
  }
 },
 "nbformat": 4,
 "nbformat_minor": 4
}
